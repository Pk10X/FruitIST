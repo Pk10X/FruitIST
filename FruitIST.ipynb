{
 "cells": [
  {
   "cell_type": "markdown",
   "id": "79fd97cc-6a84-4cdd-9ab5-b3c50c344f01",
   "metadata": {},
   "source": [
    "## Imports"
   ]
  },
  {
   "cell_type": "code",
   "execution_count": 1,
   "id": "d2319f0d-8b72-40b6-b88f-3f0423a5bf89",
   "metadata": {},
   "outputs": [],
   "source": [
    "import os\n",
    "import torch as T\n",
    "import torchvision as TV\n",
    "from math import prod\n",
    "from tqdm.auto import tqdm\n",
    "from datetime import datetime\n",
    "from torch.utils.data import DataLoader\n",
    "from FruitIST import FruitIST, kModelV1, kTrainerV1\n",
    "from safetensors.torch import load_model, save_model\n",
    "\n",
    "%matplotlib inline"
   ]
  },
  {
   "cell_type": "markdown",
   "id": "2b710f55-18da-48e4-9ff9-3fcfdb09aba0",
   "metadata": {},
   "source": [
    "## Hyperparameters"
   ]
  },
  {
   "cell_type": "code",
   "execution_count": 2,
   "id": "8474243e-3e23-4ff8-a7d3-daf8c9aaa360",
   "metadata": {},
   "outputs": [],
   "source": [
    "BATCH_SIZE      = 64\n",
    "NUM_EPOCHS      = 100\n",
    "LEARNING_RATE   = 1e-4\n",
    "LEARNING_STEP   = 5\n",
    "LEARNING_GAMMA  = 1e-1\n",
    "\n",
    "TIME_FORMAT     = \"%H:%M:%S\"\n",
    "CHECKPOINT_PATH = \"fruitist_res_state.pt\""
   ]
  },
  {
   "cell_type": "markdown",
   "id": "59b19c1b-9331-4a9d-a8c8-6dc0b772ba50",
   "metadata": {},
   "source": [
    "## Check for CUDA"
   ]
  },
  {
   "cell_type": "code",
   "execution_count": 3,
   "id": "d6e88c12-d68e-4a82-a237-d23547a1c0c8",
   "metadata": {},
   "outputs": [
    {
     "data": {
      "text/plain": [
       "device(type='cuda')"
      ]
     },
     "execution_count": 3,
     "metadata": {},
     "output_type": "execute_result"
    }
   ],
   "source": [
    "device = T.device(\"cuda\" if T.cuda.is_available() else \"cpu\")\n",
    "device"
   ]
  },
  {
   "cell_type": "markdown",
   "id": "ce25b62b-c35b-47e1-8070-f9232119ed93",
   "metadata": {},
   "source": [
    "## Load Data"
   ]
  },
  {
   "cell_type": "markdown",
   "id": "3d0807ba-3be5-4b49-9154-9722fb97e4b3",
   "metadata": {},
   "source": [
    "#### Create transform"
   ]
  },
  {
   "cell_type": "code",
   "execution_count": 4,
   "id": "da6c6bf7-309d-4e5d-a571-eab3863e5c09",
   "metadata": {},
   "outputs": [],
   "source": [
    "transform = TV.transforms.ConvertImageDtype(T.float32)"
   ]
  },
  {
   "cell_type": "markdown",
   "id": "365032f4-bea1-402d-97e6-bee9bdcfd49c",
   "metadata": {},
   "source": [
    "#### Load data sets"
   ]
  },
  {
   "cell_type": "code",
   "execution_count": 5,
   "id": "08abb09e-9c10-46e2-86bf-eeded0888cb1",
   "metadata": {},
   "outputs": [
    {
     "data": {
      "text/plain": [
       "(Dataset FruitIST\n",
       "     Number of datapoints: 67692\n",
       "     Root location: .\n",
       "     StandardTransform\n",
       " Transform: ConvertImageDtype(),\n",
       " Dataset FruitIST\n",
       "     Number of datapoints: 22688\n",
       "     Root location: .\n",
       "     StandardTransform\n",
       " Transform: ConvertImageDtype())"
      ]
     },
     "execution_count": 5,
     "metadata": {},
     "output_type": "execute_result"
    }
   ],
   "source": [
    "training_set = FruitIST(\n",
    "    root='.',\n",
    "    train=True,\n",
    "    transform=transform\n",
    ")\n",
    "\n",
    "testing_set = FruitIST(\n",
    "    root='.',\n",
    "    train=False,\n",
    "    transform=transform\n",
    ")\n",
    "\n",
    "training_set, testing_set"
   ]
  },
  {
   "cell_type": "markdown",
   "id": "bc75542f-8f6c-4217-b886-29e4b18e854d",
   "metadata": {},
   "source": [
    "#### Create data loaders"
   ]
  },
  {
   "cell_type": "code",
   "execution_count": 6,
   "id": "7ba1a0db-06dc-447a-8d41-803bcccd5149",
   "metadata": {},
   "outputs": [],
   "source": [
    "train_loader = DataLoader(\n",
    "    dataset=training_set,\n",
    "    batch_size=BATCH_SIZE,\n",
    "    shuffle=True,\n",
    "    num_workers=2,\n",
    "    prefetch_factor=2\n",
    ")\n",
    "\n",
    "test_loader = DataLoader(\n",
    "    dataset=testing_set,\n",
    "    batch_size=BATCH_SIZE,\n",
    "    shuffle=False,\n",
    "    num_workers=2,\n",
    "    prefetch_factor=2\n",
    ")"
   ]
  },
  {
   "cell_type": "markdown",
   "id": "a47f7fa1-2f6d-417e-98c3-c099734d5aeb",
   "metadata": {},
   "source": [
    "#### Get data information"
   ]
  },
  {
   "cell_type": "code",
   "execution_count": 7,
   "id": "2f381ac0-69f1-4f1a-86de-a661846dc41c",
   "metadata": {},
   "outputs": [
    {
     "name": "stdout",
     "output_type": "stream",
     "text": [
      "num_channels = 3\n",
      "num_classes  = 131\n",
      "image_size   = 10000\n"
     ]
    }
   ],
   "source": [
    "num_channels = training_set[0][0].shape[0]\n",
    "num_classes  = len(training_set.classes)\n",
    "image_size   = prod(training_set[0][0].shape[1:])\n",
    "\n",
    "print(f\"{num_channels = }\")\n",
    "print(f\"{num_classes  = }\")\n",
    "print(f\"{image_size   = }\")"
   ]
  },
  {
   "cell_type": "markdown",
   "id": "e0a5b185-2fb9-45f3-93cc-c75aec063df9",
   "metadata": {},
   "source": [
    "## Model"
   ]
  },
  {
   "cell_type": "markdown",
   "id": "8435abff-2859-408c-8efe-75c133132303",
   "metadata": {},
   "source": [
    "#### Create model"
   ]
  },
  {
   "cell_type": "code",
   "execution_count": 8,
   "id": "128d465f-f407-4b8b-a4d5-856344e559db",
   "metadata": {},
   "outputs": [],
   "source": [
    "model = TV.models.resnet18(num_classes=num_classes).to(device)"
   ]
  },
  {
   "cell_type": "markdown",
   "id": "b858c71a-d4f1-4906-a8b5-0f649cb55d38",
   "metadata": {},
   "source": [
    "#### Create utilites"
   ]
  },
  {
   "cell_type": "code",
   "execution_count": 9,
   "id": "c4719382-9366-4b96-8cc5-483be16f402d",
   "metadata": {},
   "outputs": [],
   "source": [
    "criterion = T.nn.CrossEntropyLoss()\n",
    "optimizer = T.optim.Adam(params=model.parameters(),\n",
    "                         lr=LEARNING_RATE)\n",
    "scheduler = T.optim.lr_scheduler.StepLR(optimizer=optimizer,\n",
    "                                        gamma=LEARNING_GAMMA,\n",
    "                                        step_size=LEARNING_STEP)"
   ]
  },
  {
   "cell_type": "markdown",
   "id": "b54fe6f4-ef15-454c-ad7f-c89edcb947e7",
   "metadata": {},
   "source": [
    "#### Create trainer"
   ]
  },
  {
   "cell_type": "code",
   "execution_count": 10,
   "id": "1c012e23-7b9f-4d51-beb8-99f3e849f6c7",
   "metadata": {},
   "outputs": [],
   "source": [
    "trainer = kTrainerV1(model=model,\n",
    "                     loss_function=criterion,\n",
    "                     optimizer=optimizer,\n",
    "                     scheduler=scheduler)"
   ]
  },
  {
   "cell_type": "markdown",
   "id": "3651363d",
   "metadata": {},
   "source": [
    "#### Check for saved state"
   ]
  },
  {
   "cell_type": "code",
   "execution_count": 11,
   "id": "37bbff41",
   "metadata": {},
   "outputs": [
    {
     "name": "stdout",
     "output_type": "stream",
     "text": [
      "Saved state detected. Loading file . . . \n"
     ]
    },
    {
     "data": {
      "application/vnd.jupyter.widget-view+json": {
       "model_id": "",
       "version_major": 2,
       "version_minor": 0
      },
      "text/plain": [
       "Testing:   0%|          | 0/1058 [00:03<?, ?Batches/s]"
      ]
     },
     "metadata": {},
     "output_type": "display_data"
    },
    {
     "data": {
      "application/vnd.jupyter.widget-view+json": {
       "model_id": "",
       "version_major": 2,
       "version_minor": 0
      },
      "text/plain": [
       "Testing:   0%|          | 0/355 [00:00<?, ?Batches/s]"
      ]
     },
     "metadata": {},
     "output_type": "display_data"
    },
    {
     "name": "stdout",
     "output_type": "stream",
     "text": [
      "Loaded saved state with a loss of 2.50e-05 accuracy of 98.88%\n"
     ]
    }
   ],
   "source": [
    "best = float(\"-INF\")\n",
    "\n",
    "if os.path.isfile(CHECKPOINT_PATH):\n",
    "    print(\"Saved state detected. Loading file . . . \")\n",
    "\n",
    "    try:\n",
    "        load_model(model, CHECKPOINT_PATH)\n",
    "    except:\n",
    "        print(f\"Unable to load saved state. Starting over\")\n",
    "    else:\n",
    "        best     = trainer.test(train_loader,   progress_bar=True)\n",
    "        accuracy = trainer.predict(test_loader, progress_bar=True)\n",
    "\n",
    "        print(f\"Loaded saved state with a loss of {best:.2e} accuracy of {accuracy:.2%}\")\n",
    "else:\n",
    "    print(\"No saved state file detected\")"
   ]
  },
  {
   "cell_type": "markdown",
   "id": "fefebff1",
   "metadata": {},
   "source": [
    "## Learn"
   ]
  },
  {
   "cell_type": "markdown",
   "id": "7a8b0d83-692a-418f-9f7d-cb0de25246a8",
   "metadata": {},
   "source": [
    "#### Run forward pass"
   ]
  },
  {
   "cell_type": "code",
   "execution_count": null,
   "id": "0d7b501a-9d6b-4be7-a322-b9c0306795b2",
   "metadata": {},
   "outputs": [
    {
     "name": "stdout",
     "output_type": "stream",
     "text": [
      "[06:11:58] Starting Training . . . \n"
     ]
    },
    {
     "data": {
      "application/vnd.jupyter.widget-view+json": {
       "model_id": "86fac82b1a3244ea8e90a4b077e64573",
       "version_major": 2,
       "version_minor": 0
      },
      "text/plain": [
       "Training:   0%|          | 0/100 [00:00<?, ?Epoch/s]"
      ]
     },
     "metadata": {},
     "output_type": "display_data"
    },
    {
     "data": {
      "application/vnd.jupyter.widget-view+json": {
       "model_id": "46d780f76ee645be9e6e8140d02f85b7",
       "version_major": 2,
       "version_minor": 0
      },
      "text/plain": [
       "Training:   0%|          | 0/1058 [00:00<?, ?Batches/s]"
      ]
     },
     "metadata": {},
     "output_type": "display_data"
    }
   ],
   "source": [
    "print(f\"[{ datetime.now().strftime(TIME_FORMAT) }] Starting Training . . . \")\n",
    "\n",
    "for epoch in tqdm(range(NUM_EPOCHS), desc=\"Training\", unit=\"Epoch\"):\n",
    "    saved    = \"\"\n",
    "    time     = datetime.now()\n",
    "    loss     = trainer.forward(train_loader, progress_bar=True)\n",
    "    accuracy = trainer.predict(test_loader,  progress_bar=True)\n",
    "    \n",
    "    if accuracy >= best:\n",
    "        best  = accuracy\n",
    "        saved = \" | Saved\"\n",
    "\n",
    "        save_model(model, CHECKPOINT_PATH)\n",
    "\n",
    "    print(f\"[{datetime.now().strftime(TIME_FORMAT)}] (+{(datetime.now() - time).total_seconds():.0f}s) Epoch: {epoch +1}/{NUM_EPOCHS} | Loss = {loss:.2e} | Accuracy = {accuracy:.2%}{saved}\")"
   ]
  },
  {
   "cell_type": "code",
   "execution_count": null,
   "id": "28c25c0a-f3d9-41b8-80bd-05d571792446",
   "metadata": {},
   "outputs": [],
   "source": []
  }
 ],
 "metadata": {
  "kernelspec": {
   "display_name": "Python 3 (ipykernel)",
   "language": "python",
   "name": "python3"
  },
  "language_info": {
   "codemirror_mode": {
    "name": "ipython",
    "version": 3
   },
   "file_extension": ".py",
   "mimetype": "text/x-python",
   "name": "python",
   "nbconvert_exporter": "python",
   "pygments_lexer": "ipython3",
   "version": "3.11.4"
  }
 },
 "nbformat": 4,
 "nbformat_minor": 5
}
